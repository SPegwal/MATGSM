{
 "metadata": {
  "language_info": {
   "codemirror_mode": {
    "name": "ipython",
    "version": 3
   },
   "file_extension": ".py",
   "mimetype": "text/x-python",
   "name": "python",
   "nbconvert_exporter": "python",
   "pygments_lexer": "ipython3",
   "version": "3.7.6"
  },
  "orig_nbformat": 2,
  "kernelspec": {
   "name": "python376jvsc74a57bd0062776391c39d7af276d01390ff8f7bda00b9a1f6a1bae6aafd01bb2748729c4",
   "display_name": "Python 3.7.6 64-bit ('base': conda)"
  }
 },
 "nbformat": 4,
 "nbformat_minor": 2,
 "cells": [
  {
   "cell_type": "code",
   "execution_count": 1,
   "metadata": {},
   "outputs": [],
   "source": [
    "import h5py\n"
   ]
  },
  {
   "cell_type": "code",
   "execution_count": 2,
   "metadata": {},
   "outputs": [
    {
     "output_type": "stream",
     "name": "stdout",
     "text": [
      "component_maps_23klocked\n(3145728, 3)\ncomponent_maps_408locked\n(3145728, 3)\ncomponent_maps_5deg\n(3145728, 3)\ncomponents\n(11, 5)\n"
     ]
    }
   ],
   "source": [
    "# First the GSM only part...\n",
    "h = h5py.File(\"c:\\Work\\GitHub\\PyGSM\\pygsm\\gsm_components.h5\", \"r\")\n",
    "D = list(h.keys())\n",
    "f = h5py.File(\"gsm2016_components.h5\", \"w\")\n",
    "Ndata = len(D)\n",
    "for ii in range(0,Ndata):\n",
    "    data = h[D[ii]][:]\n",
    "    dset = f.create_dataset(D[ii], data.shape, dtype='f')\n",
    "    dset[:] = data\n",
    "    print(D[ii])\n",
    "    print(data.shape)\n",
    "\n",
    "f.close()"
   ]
  },
  {
   "cell_type": "code",
   "execution_count": 3,
   "metadata": {},
   "outputs": [
    {
     "output_type": "stream",
     "name": "stdout",
     "text": [
      "highres_CMB_map\n",
      "(12582912,)\n",
      "highres_Dust1_map\n",
      "(12582912,)\n",
      "highres_Dust2_map\n",
      "(12582912,)\n",
      "highres_Free-Free_map\n",
      "(12582912,)\n",
      "highres_HI_map\n",
      "(12582912,)\n",
      "highres_Synchrotron_map\n",
      "(12582912,)\n",
      "lowres_maps\n",
      "(6, 49152)\n",
      "spectra\n",
      "(8, 29)\n"
     ]
    }
   ],
   "source": [
    "# Now for the 2016 part...\n",
    "h2016 = h5py.File(\"c:\\Work\\GitHub\\PyGSM\\pygsm\\gsm2016_components.h5\", \"r\")\n",
    "D = list(h2016.keys())\n",
    "f2016 = h5py.File(\"gsm2016_components.h5\", \"w\")\n",
    "Ndata = len(D)\n",
    "for ii in range(0,Ndata):\n",
    "    data = h2016[D[ii]][:]\n",
    "    dset = f2016.create_dataset(D[ii], data.shape, dtype='f')\n",
    "    dset[:] = data\n",
    "    print(D[ii])\n",
    "    print(data.shape)\n",
    "\n",
    "f2016.close()\n"
   ]
  },
  {
   "cell_type": "code",
   "execution_count": 4,
   "metadata": {},
   "outputs": [],
   "source": [
    "# First read in the GSM part\n",
    "# h5 = h5py.File(\"c:/Work/GitHub/PyGSM/build/lib/pygsm/gsm_components.h5\", \"r\")\n",
    "# component_maps_5deg = h5[\"component_maps_5deg\"][:]\n",
    "# component_maps_408locked = h5[\"component_maps_408locked\"][:]\n",
    "# component_maps_23klocked = h5[\"component_maps_23klocked\"][:]\n",
    "# components = h5[\"components\"][:]"
   ]
  },
  {
   "cell_type": "code",
   "execution_count": 5,
   "metadata": {},
   "outputs": [],
   "source": [
    "#  Write ou the new file\n",
    "#  f = h5py.File(\"gsm_components.h5\", \"w\")\n",
    "# dset_components = f.create_dataset(\"components\", components.shape, dtype='f')\n",
    "# dset_components[:] = components\n",
    "# dset_component_maps_5deg = f.create_dataset(\"component_maps_5deg\", component_maps_5deg.shape, dtype='f')\n",
    "# dset_component_maps_5deg[:] = component_maps_5deg\n",
    "# dset_component_maps_408locked = f.create_dataset(\"component_maps_408locked\", component_maps_408locked.shape, dtype='f')\n",
    "# dset_component_maps_408locked[:] = component_maps_408locked\n",
    "# dset_component_maps_23klocked = f.create_dataset(\"component_maps_23klocked\", component_maps_23klocked.shape, dtype='f')\n",
    "# dset_component_maps_23klocked[:] = component_maps_23klocked\n",
    "# f.close()"
   ]
  },
  {
   "cell_type": "code",
   "execution_count": null,
   "metadata": {},
   "outputs": [],
   "source": []
  }
 ]
}